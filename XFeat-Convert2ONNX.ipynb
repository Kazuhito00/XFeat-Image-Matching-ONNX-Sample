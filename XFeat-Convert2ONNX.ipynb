{
  "nbformat": 4,
  "nbformat_minor": 0,
  "metadata": {
    "colab": {
      "provenance": []
    },
    "kernelspec": {
      "name": "python3",
      "display_name": "Python 3"
    },
    "language_info": {
      "name": "python"
    }
  },
  "cells": [
    {
      "cell_type": "markdown",
      "source": [
        "# リポジトリクローン"
      ],
      "metadata": {
        "id": "341OpFQxgGqK"
      }
    },
    {
      "cell_type": "code",
      "source": [
        "!cd /content && git clone 'https://github.com/verlab/accelerated_features.git'\n",
        "%cd /content/accelerated_features"
      ],
      "metadata": {
        "id": "D4G-r76a9tfR"
      },
      "execution_count": null,
      "outputs": []
    },
    {
      "cell_type": "markdown",
      "source": [
        "# モデル構築"
      ],
      "metadata": {
        "id": "cChF15vIgQ79"
      }
    },
    {
      "cell_type": "code",
      "source": [
        "from modules.model import *\n",
        "from modules.interpolator import InterpolateSparse2d\n",
        "\n",
        "xfeat_model = XFeatModel().to('cpu').eval()\n",
        "xfeat_model.load_state_dict(torch.load('weights/xfeat.pt', map_location='cpu'))\n",
        "\n",
        "interpolator_bicubic = InterpolateSparse2d('bicubic')\n",
        "interpolator_nearest = InterpolateSparse2d('nearest')\n",
        "interpolator_bilinear = InterpolateSparse2d('bilinear')"
      ],
      "metadata": {
        "id": "0IaFGawjvcPR"
      },
      "execution_count": 2,
      "outputs": []
    },
    {
      "cell_type": "markdown",
      "source": [
        "# ONNX変換"
      ],
      "metadata": {
        "id": "csZV7zcxgVgb"
      }
    },
    {
      "cell_type": "code",
      "source": [
        "!pip install onnx onnxruntime onnxsim"
      ],
      "metadata": {
        "id": "tYnVyBVp_DgT"
      },
      "execution_count": null,
      "outputs": []
    },
    {
      "cell_type": "code",
      "source": [
        "import torch\n",
        "\n",
        "def convert_to_onnx(\n",
        "    xfeat_model,\n",
        "    interpolator_bicubic,\n",
        "    interpolator_nearest,\n",
        "    interpolator_bilinear,\n",
        "    input_width=800,\n",
        "    input_height=576,\n",
        "):\n",
        "    # XFeat\n",
        "    xfeat_model_name = 'xfeat' + '_' + str(input_width) + 'x' + str(input_height) + '.onnx'\n",
        "    xfeat_dummy_input = torch.randn(1, 3, input_height, input_width, requires_grad=True)\n",
        "    torch.onnx.export(\n",
        "        xfeat_model,\n",
        "        xfeat_dummy_input,\n",
        "        xfeat_model_name,\n",
        "        verbose=True,\n",
        "        input_names=['input'],\n",
        "        output_names=['output'],\n",
        "    )\n",
        "\n",
        "    # Interpolator\n",
        "    interp_dummy_input1 = torch.randn(1, 64, 72, 100, requires_grad=True)\n",
        "    interp_dummy_input2 = torch.randn(1, 4096, 2, requires_grad=True)\n",
        "    interp_dummy_height = torch.tensor([input_height], dtype=torch.int32)\n",
        "    interp_dummy_width = torch.tensor([input_width], dtype=torch.int32)\n",
        "\n",
        "    interpolator_bicubic_model_name = 'interpolator_bicubic' + '_' + str(input_width) + 'x' + str(input_height) + '.onnx'\n",
        "    interpolator_nearest_model_name = 'interpolator_nearest' + '_' + str(input_width) + 'x' + str(input_height) + '.onnx'\n",
        "    interpolator_bilinear_model_name = 'interpolator_bilinear' + '_' + str(input_width) + 'x' + str(input_height) + '.onnx'\n",
        "    torch.onnx.export(\n",
        "        interpolator_bicubic,\n",
        "        (interp_dummy_input1, interp_dummy_input2, interp_dummy_height, interp_dummy_width),\n",
        "        interpolator_bicubic_model_name,\n",
        "        verbose=True,\n",
        "        input_names=[\"x\", \"pos\", \"H\", \"W\"],\n",
        "        dynamic_axes={\n",
        "            \"x\": {0: \"batch_size\", 1: \"channel\", 2: \"height\", 3: \"width\"},\n",
        "            \"pos\": {0: \"batch_size\", 1: \"keypoints\"},\n",
        "            \"H\": {0: \"H\"},\n",
        "            \"W\": {0: \"W\"}\n",
        "        }\n",
        "    )\n",
        "    torch.onnx.export(\n",
        "        interpolator_nearest,\n",
        "        (interp_dummy_input1, interp_dummy_input2, interp_dummy_height, interp_dummy_width),\n",
        "        interpolator_nearest_model_name,\n",
        "        verbose=True,\n",
        "        input_names=[\"x\", \"pos\", \"H\", \"W\"],\n",
        "        dynamic_axes={\n",
        "            \"x\": {0: \"batch_size\", 1: \"channel\", 2: \"height\", 3: \"width\"},\n",
        "            \"pos\": {0: \"batch_size\", 1: \"keypoints\"},\n",
        "            \"H\": {0: \"H\"},\n",
        "            \"W\": {0: \"W\"}\n",
        "        }\n",
        "    )\n",
        "    torch.onnx.export(\n",
        "        interpolator_bilinear,\n",
        "        (interp_dummy_input1, interp_dummy_input2, interp_dummy_height, interp_dummy_width),\n",
        "        interpolator_bilinear_model_name,\n",
        "        verbose=True,\n",
        "        input_names=[\"x\", \"pos\", \"H\", \"W\"],\n",
        "        dynamic_axes={\n",
        "            \"x\": {0: \"batch_size\", 1: \"channel\", 2: \"height\", 3: \"width\"},\n",
        "            \"pos\": {0: \"batch_size\", 1: \"keypoints\"},\n",
        "            \"H\": {0: \"H\"},\n",
        "            \"W\": {0: \"W\"}\n",
        "        }\n",
        "    )\n",
        "\n",
        "    !onnxsim $xfeat_model_name $xfeat_model_name\n",
        "    !onnxsim $interpolator_bicubic_model_name $interpolator_bicubic_model_name\n",
        "    !onnxsim $interpolator_nearest_model_name $interpolator_nearest_model_name\n",
        "    !onnxsim $interpolator_bilinear_model_name $interpolator_bilinear_model_name"
      ],
      "metadata": {
        "id": "CX4U2BhC6hVj"
      },
      "execution_count": 4,
      "outputs": []
    },
    {
      "cell_type": "code",
      "source": [
        "input_shape_list = [\n",
        "    [320, 224],\n",
        "    [640, 480],\n",
        "    [800, 576],\n",
        "    [320, 160],\n",
        "    [640, 352],\n",
        "    [960, 512],\n",
        "    [256, 256],\n",
        "    [512, 512],\n",
        "]\n",
        "\n",
        "for input_shape in input_shape_list:\n",
        "    convert_to_onnx(\n",
        "        xfeat_model,\n",
        "        interpolator_bicubic,\n",
        "        interpolator_nearest,\n",
        "        interpolator_bilinear,\n",
        "        input_width=input_shape[0],\n",
        "        input_height=input_shape[1],\n",
        "    )"
      ],
      "metadata": {
        "id": "KLHWzhcg_qiN"
      },
      "execution_count": null,
      "outputs": []
    },
    {
      "cell_type": "markdown",
      "source": [
        "# まとめてZip化"
      ],
      "metadata": {
        "id": "wK-5HTX7jC3U"
      }
    },
    {
      "cell_type": "code",
      "source": [
        "!mkdir onnx_model"
      ],
      "metadata": {
        "id": "R0r7VQCdh7MU"
      },
      "execution_count": 6,
      "outputs": []
    },
    {
      "cell_type": "code",
      "source": [
        "for input_shape in input_shape_list:\n",
        "    input_width=input_shape[0]\n",
        "    input_height=input_shape[1]\n",
        "\n",
        "    model_name1 = 'xfeat' + '_' + str(input_width) + 'x' + str(input_height) + '.onnx'\n",
        "    model_name2 = 'interpolator_bicubic' + '_' + str(input_width) + 'x' + str(input_height) + '.onnx'\n",
        "    model_name3 = 'interpolator_nearest' + '_' + str(input_width) + 'x' + str(input_height) + '.onnx'\n",
        "    model_name4 = 'interpolator_bilinear' + '_' + str(input_width) + 'x' + str(input_height) + '.onnx'\n",
        "\n",
        "    !mv $model_name1 onnx_model/\n",
        "    !mv $model_name2 onnx_model/\n",
        "    !mv $model_name3 onnx_model/\n",
        "    !mv $model_name4 onnx_model/"
      ],
      "metadata": {
        "id": "faKkY_Xch7Jd"
      },
      "execution_count": 7,
      "outputs": []
    },
    {
      "cell_type": "code",
      "source": [
        "!zip -r onnx_model.zip onnx_model"
      ],
      "metadata": {
        "id": "ZijiKQsKh7GZ"
      },
      "execution_count": null,
      "outputs": []
    }
  ]
}